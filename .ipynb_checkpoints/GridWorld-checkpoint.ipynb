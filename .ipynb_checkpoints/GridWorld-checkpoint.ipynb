{
 "cells": [
  {
   "cell_type": "code",
   "execution_count": 1,
   "metadata": {},
   "outputs": [],
   "source": [
    "import numpy as np\n",
    "import random\n",
    "import itertools\n",
    "import scipy.misc\n",
    "from matplotlib import pyplot as plt\n",
    "import tensorflow as tf \n",
    "import os\n",
    "%matplotlib inline\n",
    "os.environ['CUDA_VISIBLE_DEVICES'] = \"1\""
   ]
  },
  {
   "cell_type": "code",
   "execution_count": 2,
   "metadata": {},
   "outputs": [],
   "source": [
    "class Block(object):\n",
    "    def __init__(self, coordinates, size, intensity, channel, reward, name):\n",
    "        self.x, self.y = coordinates[0], coordinates[1]\n",
    "        self.size = size\n",
    "        self.intensity = intensity\n",
    "        self.channel = channel\n",
    "        self.reward = reward\n",
    "        self.name = name"
   ]
  },
  {
   "cell_type": "code",
   "execution_count": 3,
   "metadata": {},
   "outputs": [],
   "source": [
    "class GridWorld():\n",
    "    def __init__(self, size):\n",
    "        self.x_size = size\n",
    "        self.y_size = size\n",
    "        self.action_num = 4\n",
    "        self.block_num = 7\n",
    "        self.blocks = None\n",
    "        self.available_grids = None\n",
    "        self.state = None\n",
    "\n",
    "    def get_positions(self, num):\n",
    "        indices = np.random.choice(np.arange(len(self.available_grids)), size=num, replace=False)\n",
    "        grids = [self.available_grids[index] for index in indices]\n",
    "        for grid in grids:\n",
    "            self.available_grids.remove(grid)\n",
    "        return grids\n",
    "\n",
    "    def reset(self):\n",
    "        self.available_grids = [(x, y) for x in range(self.x_size) for y in range(self.y_size)]\n",
    "        postions = self.get_positions(self.block_num)\n",
    "        size = [1] * self.block_num\n",
    "        intensity = [1] * self.block_num\n",
    "        channel = [2, 1, 0, 1, 0, 1, 1]\n",
    "        reward = [None, 1, -1, 1, -1, 1, 1]\n",
    "        name = [\"hero\", \"goal\", \"fire\", \"goal\", \"fire\", \"goal\", \"goal\"]\n",
    "        self.blocks = [Block(*args) for args in zip(postions, size, intensity, channel, reward, name)]\n",
    "        self.state = self.render()\n",
    "        return self.state\n",
    "    \n",
    "    def move(self, direction):\n",
    "        hero = self.blocks[0]\n",
    "        if direction == 0 and hero.y >=1:\n",
    "            hero.y -= 1\n",
    "        elif direction == 1 and hero.y <= self.y_size - 2:\n",
    "            hero.y += 1\n",
    "        elif direction == 2 and hero.x >= 1:\n",
    "            hero.x -= 1\n",
    "        elif direction == 3 and hero.x <= self.x_size - 2:\n",
    "            hero.x += 1\n",
    "        else:\n",
    "            pass\n",
    "\n",
    "    def check_hit(self):\n",
    "        hero = self.blocks.pop(0)\n",
    "        for block in self.blocks:\n",
    "            if (hero.x == block.x) and (hero.y == block.y):\n",
    "                self.available_grids.append([block.x, block.y])\n",
    "                self.blocks.remove(block)\n",
    "                if block.name == \"goal\":\n",
    "                    self.blocks.append(Block(*self.get_positions(1), 1, 1, 1, 1, \"goal\"))\n",
    "                elif block.name == \"fire\":\n",
    "                    self.blocks.append(Block(*self.get_positions(1), 1, 1, 0, -1, \"fire\"))\n",
    "                else:\n",
    "                    raise\n",
    "                self.blocks.insert(0, hero)\n",
    "                return block.reward, False\n",
    "        \n",
    "        self.blocks.insert(0, hero)\n",
    "        return 0.0, False\n",
    "\n",
    "    def render(self):\n",
    "        canvas = np.ones([self.y_size+2, self.x_size+2, 3])\n",
    "        canvas[1:-1,1:-1,:] = 0\n",
    "        for block in self.blocks:\n",
    "            canvas[block.y+1:block.y+block.size+1,block.x+1:block.x+block.size+1,block.channel] = block.intensity\n",
    "        r = scipy.misc.imresize(canvas[:,:,0], [84,84,1], interp='nearest')\n",
    "        g = scipy.misc.imresize(canvas[:,:,1], [84,84,1], interp='nearest')\n",
    "        b = scipy.misc.imresize(canvas[:,:,2], [84,84,1], interp='nearest')\n",
    "        return np.stack([r, g, b],axis=2)\n",
    "\n",
    "    def step(self, action):\n",
    "        self.move(action)\n",
    "        reward, done = self.check_hit()\n",
    "        self.state = self.render()\n",
    "        return self.state, reward, done\n",
    "    \n",
    "    def plot(self):\n",
    "        plt.imshow(self.state, interpolation=\"nearest\")"
   ]
  },
  {
   "cell_type": "code",
   "execution_count": 4,
   "metadata": {},
   "outputs": [],
   "source": [
    "env = GridWorld(size=5)\n",
    "_ = env.reset()"
   ]
  },
  {
   "cell_type": "code",
   "execution_count": 5,
   "metadata": {},
   "outputs": [
    {
     "data": {
      "image/png": "[encoded data removed]",
      "text/plain": [
       "<matplotlib.figure.Figure at 0x7fda370b49b0>"
      ]
     },
     "metadata": {},
     "output_type": "display_data"
    }
   ],
   "source": [
    "env.plot()"
   ]
  },
  {
   "cell_type": "code",
   "execution_count": 6,
   "metadata": {},
   "outputs": [],
   "source": [
    "observation, reward, done = env.step(1)"
   ]
  },
  {
   "cell_type": "code",
   "execution_count": 7,
   "metadata": {},
   "outputs": [
    {
     "data": {
      "text/plain": [
       "(0.0, False)"
      ]
     },
     "execution_count": 7,
     "metadata": {},
     "output_type": "execute_result"
    }
   ],
   "source": [
    "reward, done"
   ]
  },
  {
   "cell_type": "code",
   "execution_count": 8,
   "metadata": {},
   "outputs": [
    {
     "data": {
      "image/png": "[encoded data removed]",
      "text/plain": [
       "<matplotlib.figure.Figure at 0x7fda337ea9e8>"
      ]
     },
     "metadata": {},
     "output_type": "display_data"
    }
   ],
   "source": [
    "env.plot()"
   ]
  },
  {
   "cell_type": "code",
   "execution_count": 9,
   "metadata": {},
   "outputs": [],
   "source": [
    "class DQN():\n",
    "    def __init__(self, env, name):\n",
    "        self.name = name\n",
    "        self.env = env\n",
    "        ################## 网络结构 ##############\n",
    "        self.scalar_input =  tf.placeholder(shape=[None,21168],dtype=tf.float32)\n",
    "        self.image = tf.reshape(self.scalar_input,shape=[-1,84,84,3])\n",
    "        self.conv1 = tf.contrib.layers.convolution2d(inputs=self.image, num_outputs=32, \n",
    "            kernel_size=[8,8], stride=[4,4], padding='VALID', biases_initializer=None)\n",
    "        self.conv2 = tf.contrib.layers.convolution2d(inputs=self.conv1, num_outputs=64, \n",
    "            kernel_size=[4,4], stride=[2,2],padding='VALID', biases_initializer=None)\n",
    "        self.conv3 = tf.contrib.layers.convolution2d(inputs=self.conv2, num_outputs=64, \n",
    "            kernel_size=[3,3], stride=[1,1], padding='VALID', biases_initializer=None)\n",
    "        self.conv4 = tf.contrib.layers.convolution2d(inputs=self.conv3, num_outputs=512, \n",
    "            kernel_size=[7,7], stride=[1,1], padding='VALID', biases_initializer=None)\n",
    "\n",
    "        self.conv4_1, self.conv4_2 = tf.split(self.conv4, 2, 3)\n",
    "        self.flat_1 = tf.contrib.layers.flatten(self.conv4_1)\n",
    "        self.flat_2 = tf.contrib.layers.flatten(self.conv4_2)\n",
    "        self.advantage_weight = tf.Variable(tf.random_normal([256, self.env.action_num]), name=\"advantage_weight\")\n",
    "        self.value_weight = tf.Variable(tf.random_normal([256, 1]), name=\"value_weight\")\n",
    "        self.advantage = tf.matmul(self.flat_1, self.advantage_weight)\n",
    "        self.value = tf.matmul(self.flat_2, self.value_weight)\n",
    "        \n",
    "        self.q_value = self.value + tf.subtract(self.advantage, tf.reduce_mean(self.advantage, reduction_indices=1, keep_dims=True))\n",
    "        self.action = tf.argmax(self.q_value, 1)\n",
    "\n",
    "        # self.actions 是一维的，类似于[1,1,2,3,1,0.....]\n",
    "        self.actions = tf.placeholder(shape=[None], dtype=tf.int32)\n",
    "        # self.target_q 是一维的，是self.actions 中每个动作对应的q值\n",
    "        self.target_q = tf.placeholder(shape=[None], dtype=tf.float32)\n",
    "        # self.q_value_of_action 是一维的，是self.actions 中每个动作对应的预测q值\n",
    "        self.actions_onehot = tf.one_hot(self.actions, self.env.action_num, dtype=tf.float32)\n",
    "        self.q_value_on_action = tf.reduce_sum(tf.multiply(self.q_value, self.actions_onehot), reduction_indices=1)\n",
    "        \n",
    "        self.loss = tf.reduce_mean(tf.square(self.target_q - self.q_value_on_action))\n",
    "        self.trainer = tf.train.AdamOptimizer(learning_rate=0.00001)\n",
    "        self.update_model = self.trainer.minimize(self.loss)\n",
    "\n",
    "class ExperienceBuffer():\n",
    "    def __init__(self, buffer_size=50000):\n",
    "        self.buffer = []\n",
    "        self.buffer_size = buffer_size\n",
    "    \n",
    "    def add(self, experience):\n",
    "        num_to_remove = len(self.buffer) + len(experience) - self.buffer_size\n",
    "        if num_to_remove > 0:\n",
    "            for i in range(num_to_remove):\n",
    "                self.buffer.pop(0)\n",
    "        self.buffer.extend(experience)\n",
    "            \n",
    "    def sample(self, size):\n",
    "        indices = np.random.choice(np.arange(len(self.buffer)), size=size)\n",
    "        return [self.buffer[index] for index in indices]\n",
    "\n",
    "     \n",
    "# def get_update_target_ops(variables, tau):\n",
    "#     main_DQN_vars = variables[0:len(variables)//2]\n",
    "#     target_DQN_vars = variables[len(variables)//2:]\n",
    "#     ops = []\n",
    "#     for i in range(len(target_DQN_vars)):\n",
    "#         ops.append(target_DQN_vars[i].assign(\n",
    "#             main_DQN_vars[i].value() * tau + (1 - tau) * target_DQN_vars[i].value()\n",
    "#             ))\n",
    "#     return ops\n",
    "\n",
    "def get_update_target_ops(tfVars, tau):\n",
    "    total_vars = len(tfVars)\n",
    "    op_holder = []\n",
    "    for idx,var in enumerate(tfVars[0:total_vars//2]):\n",
    "        op_holder.append(tfVars[idx+total_vars//2].assign((var.value()*tau) + ((1-tau)*tfVars[idx+total_vars//2].value())))\n",
    "    return op_holder\n",
    "\n",
    "def update_target(ops, sess):\n",
    "    for op in ops:\n",
    "        sess.run(op)"
   ]
  },
  {
   "cell_type": "code",
   "execution_count": 10,
   "metadata": {},
   "outputs": [],
   "source": [
    "batch_size = 32\n",
    "\n",
    "#How often to perform a training step.\n",
    "update_freq = 4\n",
    "gamma = .99\n",
    "random_upper_bound = 1\n",
    "random_lower_bound = 0.1\n",
    "annealing_steps = 10000\n",
    "random_threshold = random_upper_bound\n",
    "drop_step = (random_upper_bound - random_lower_bound) / annealing_steps\n",
    "\n",
    "#How many episodes of game environment to train network with.\n",
    "num_episodes = 10000\n",
    "#How many steps of random actions before training begins.\n",
    "pre_train_steps = 10000\n",
    "#The max allowed length for one episode.\n",
    "max_episode_length = 50\n",
    "load_model = False \n",
    "path = \"./dqn\"\n",
    "#Rate to update target network toward primary network\n",
    "tau = 0.001 "
   ]
  },
  {
   "cell_type": "code",
   "execution_count": 11,
   "metadata": {},
   "outputs": [],
   "source": [
    "tf.reset_default_graph()\n",
    "main_DQN = DQN(env, \"main\")\n",
    "target_DQN = DQN(env, \"target\")\n",
    "\n",
    "init_op = tf.global_variables_initializer()\n",
    "update_target_ops_1 = get_update_target_ops(tf.trainable_variables(), 1)\n",
    "update_target_ops_2 = get_update_target_ops(tf.trainable_variables(), tau)\n",
    "\n",
    "saver = tf.train.Saver()\n",
    "if not os.path.exists(path):\n",
    "    os.makedirs(path)\n",
    "\n"
   ]
  },
  {
   "cell_type": "code",
   "execution_count": null,
   "metadata": {},
   "outputs": [],
   "source": [
    "# with tf.Session() as sess:\n",
    "#     sess.run(init_op)\n",
    "#     update_target(update_target_ops_1, sess)\n",
    "#     observation = env.reset()\n",
    "#     observation = np.reshape(observation, [21168])\n",
    "#     print(sess.run(target_DQN.q_value, feed_dict={target_DQN.scalar_input: [observation]}))\n",
    "#     print(sess.run(main_DQN.action, feed_dict={main_DQN.scalar_input: [observation]}))\n",
    "#     print(sess.run(main_DQN.actions_onehot, feed_dict={main_DQN.actions: [2]}))\n",
    "\n"
   ]
  },
  {
   "cell_type": "code",
   "execution_count": null,
   "metadata": {
    "scrolled": false
   },
   "outputs": [
    {
     "name": "stdout",
     "output_type": "stream",
     "text": [
      "episode 25 , average reward of last 25 episode 1.96\n",
      "episode 50 , average reward of last 25 episode 1.72\n",
      "episode 75 , average reward of last 25 episode 2.68\n",
      "episode 100 , average reward of last 25 episode 2.08\n",
      "episode 125 , average reward of last 25 episode 2.32\n",
      "episode 150 , average reward of last 25 episode 2.28\n",
      "episode 175 , average reward of last 25 episode 2.16\n",
      "episode 200 , average reward of last 25 episode 1.68\n",
      "episode 225 , average reward of last 25 episode 2.0\n",
      "episode 250 , average reward of last 25 episode 1.32\n"
     ]
    }
   ],
   "source": [
    "with tf.Session() as sess:\n",
    "    if load_model == True:\n",
    "        print('Loading Model...')\n",
    "        ckpt = tf.train.get_checkpoint_state(path)\n",
    "        saver.restore(sess,ckpt.model_checkpoint_path)\n",
    "    sess.run(init_op)\n",
    "    \n",
    "    #Set the target network to be equal to the main network.\n",
    "    update_target(update_target_ops_2, sess)\n",
    "    global_experience_buffer = ExperienceBuffer()\n",
    "    \n",
    "    #create list to contain total rewards per episode\n",
    "    total_reward_list = []\n",
    "    steps = 0\n",
    "    for i in range(num_episodes + 1):\n",
    "        episode_buffer = ExperienceBuffer()\n",
    "        observation = env.reset()\n",
    "        observation = np.reshape(observation, [21168])\n",
    "        done = False\n",
    "        total_reward_in_episode = 0\n",
    "        steps_in_episode = 0\n",
    "        while steps_in_episode < max_episode_length:\n",
    "            # 积累样本\n",
    "            steps_in_episode += 1\n",
    "            steps += 1\n",
    "            if np.random.rand(1) < random_threshold or steps < pre_train_steps:\n",
    "                action = np.random.randint(0, 4)\n",
    "            else:\n",
    "                action = sess.run(main_DQN.action, feed_dict={main_DQN.scalar_input: [observation]})[0]\n",
    "            new_observation, reward, done = env.step(action)\n",
    "            new_observation = np.reshape(new_observation, [21168])\n",
    "            #Save the experience to episode buffer\n",
    "            episode_buffer.add([[observation, action, reward, new_observation, done]])\n",
    "            \n",
    "            total_reward_in_episode += reward\n",
    "            observation = new_observation\n",
    "            # 积累了 pre_train_steps/max_episode_length 次经历的pre_train_steps个样本之后才会第一次开始衰减随机门限，进行第一次训练。\n",
    "            if steps >= pre_train_steps:\n",
    "                if random_threshold > random_lower_bound:\n",
    "                    random_threshold -= drop_step\n",
    "                if steps % (update_freq) == 0:\n",
    "                    train_batch = global_experience_buffer.sample(batch_size)\n",
    "                    #Below we perform the Double-DQN update to the target Q-values\n",
    "                    observations = np.vstack([record[0] for record in train_batch])\n",
    "                    actions = np.array([record[1] for record in train_batch])\n",
    "                    instant_rewards = np.array([record[2] for record in train_batch])\n",
    "                    new_observations = np.vstack([record[3] for record in train_batch])\n",
    "                    \n",
    "                    action = sess.run(main_DQN.action, feed_dict={main_DQN.scalar_input: new_observations})\n",
    "                    q_value, value, advantage = sess.run([target_DQN.q_value, target_DQN.value, target_DQN.advantage], feed_dict={target_DQN.scalar_input: new_observations})\n",
    "                    labels = instant_rewards + gamma * q_value[range(batch_size) ,action]\n",
    "                    # print(q_value, advantage)\n",
    "                    # Update the network with our target values.\n",
    "                    _ = sess.run(main_DQN.update_model, feed_dict={\n",
    "                        main_DQN.scalar_input: observations,\n",
    "                        main_DQN.target_q: labels,\n",
    "                        main_DQN.actions: actions})\n",
    "\n",
    "                    #update the target network towards the main network.\n",
    "                    update_target(update_target_ops_2, sess)\n",
    "        \n",
    "        #Get all experiences from this episode\n",
    "        global_experience_buffer.add(episode_buffer.buffer)\n",
    "        total_reward_list.append(total_reward_in_episode)\n",
    "        \n",
    "        if i>0 and i % 25 == 0:\n",
    "            print('episode',i,', average reward of last 25 episode', np.mean(total_reward_list[-25:]))\n",
    "        #Periodically save the model.\n",
    "        if i>0 and i % 1000 == 0:\n",
    "            saver.save(sess,path+'/model-'+str(i)+'.cptk')\n",
    "            print(\"Saved Model\")            \n",
    "    saver.save(sess,path+'/model-'+str(i)+'.cptk')"
   ]
  }
 ],
 "metadata": {
  "kernelspec": {
   "display_name": "Python 3",
   "language": "python",
   "name": "python3"
  },
  "language_info": {
   "codemirror_mode": {
    "name": "ipython",
    "version": 3
   },
   "file_extension": ".py",
   "mimetype": "text/x-python",
   "name": "python",
   "nbconvert_exporter": "python",
   "pygments_lexer": "ipython3",
   "version": "3.5.4"
  }
 },
 "nbformat": 4,
 "nbformat_minor": 2
}
